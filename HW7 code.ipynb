{
 "cells": [
  {
   "cell_type": "code",
   "execution_count": 106,
   "metadata": {},
   "outputs": [],
   "source": [
    "import cv2\n",
    "import numpy as np\n",
    "import os\n",
    "import pandas as pd\n",
    "from sklearn.cluster import KMeans\n",
    "import matplotlib.pyplot as plt\n",
    "from collections import defaultdict as dd"
   ]
  },
  {
   "cell_type": "markdown",
   "metadata": {},
   "source": [
    "## 1. Regular SIFT"
   ]
  },
  {
   "cell_type": "code",
   "execution_count": null,
   "metadata": {},
   "outputs": [],
   "source": [
    "# 1.1 Algorithm"
   ]
  },
  {
   "cell_type": "code",
   "execution_count": 12,
   "metadata": {},
   "outputs": [],
   "source": [
    "train_path = 'Assignment06_data\\Assignment06_data_reduced\\TrainingDataset'\n",
    "bfly_train_path = train_path + r'\\024.butterfly'\n",
    "cbhat_train_path = train_path + r'\\051.cowboy-hat'\n",
    "plane_train_path = train_path + r'\\251.airplanes'"
   ]
  },
  {
   "cell_type": "code",
   "execution_count": 45,
   "metadata": {},
   "outputs": [
    {
     "name": "stdout",
     "output_type": "stream",
     "text": [
      "Wall time: 12.2 s\n"
     ]
    }
   ],
   "source": [
    "%%time\n",
    "# find SIFT features for reduced data training set\n",
    "# hold in a dict where the name of the category maps to a list of \n",
    "# (keypoint, feature descriptor) tuples\n",
    "# train_sifts = {'bfly':[], 'cbhat':[], 'plane':[]}\n",
    "# train_sifts = {}\n",
    "# train_sifts = pd.DataFrame(columns = ['keypoint', 'descriptor', 'category'])\n",
    "\n",
    "# create list of features where each item is an mxn matrix\n",
    "# m = number of features extracted from given image\n",
    "# n = 128, number of histogram values describing feature using SIFT\n",
    "train_sifts = []\n",
    "sift = cv2.xfeatures2d.SIFT_create()\n",
    "for file in sorted(os.listdir(bfly_train_path)):\n",
    "    imgPath = os.path.join(bfly_train_path, file)\n",
    "    img = cv2.imread(imgPath)\n",
    "    gray = cv2.cvtColor(img,cv2.COLOR_BGR2GRAY)\n",
    "    kp, des = sift.detectAndCompute(gray,None)\n",
    "    feature = (des, 1)\n",
    "    train_sifts.append(feature)\n",
    "#     train_sifts['bfly'].append((kp, des))\n",
    "for file in sorted(os.listdir(cbhat_train_path)):\n",
    "    imgPath = os.path.join(cbhat_train_path, file)\n",
    "    img = cv2.imread(imgPath)\n",
    "    gray = cv2.cvtColor(img,cv2.COLOR_BGR2GRAY)\n",
    "    kp, des = sift.detectAndCompute(gray,None)\n",
    "    feature = (des, 2)\n",
    "    train_sifts.append(feature)\n",
    "#     train_sifts['cbhat'].append((kp, des))\n",
    "for file in sorted(os.listdir(plane_train_path)):\n",
    "    imgPath = os.path.join(plane_train_path, file)\n",
    "    img = cv2.imread(imgPath)\n",
    "    gray = cv2.cvtColor(img,cv2.COLOR_BGR2GRAY)\n",
    "    kp, des = sift.detectAndCompute(gray,None)\n",
    "    feature = (des, 3)\n",
    "    train_sifts.append(feature)\n",
    "#     train_sifts['plane'].append((kp, des))"
   ]
  },
  {
   "cell_type": "code",
   "execution_count": 56,
   "metadata": {},
   "outputs": [],
   "source": [
    "# extract and stack features for input into kmeans clustering\n",
    "# (num data points) x (num features)\n",
    "# num data points = total features extracted from images (non-unique)\n",
    "# num features = 128 hist bin values representing 16x16 nbrhood around a point, make up feature\n",
    "train_feats = []\n",
    "for pair in train_sifts:\n",
    "    train_feats.append(pair[0])\n",
    "train_stack = np.array(train_feats[0])\n",
    "for others in train_feats[1:]:\n",
    "    train_stack = np.vstack((train_stack, others))"
   ]
  },
  {
   "cell_type": "code",
   "execution_count": 52,
   "metadata": {},
   "outputs": [
    {
     "name": "stdout",
     "output_type": "stream",
     "text": [
      "(140957, 128)\n"
     ]
    }
   ],
   "source": [
    "print(train_stack.shape)"
   ]
  },
  {
   "cell_type": "code",
   "execution_count": 54,
   "metadata": {},
   "outputs": [
    {
     "name": "stdout",
     "output_type": "stream",
     "text": [
      "(381, 128)\n"
     ]
    }
   ],
   "source": [
    "print(np.array(train_feats[0]).shape)"
   ]
  },
  {
   "cell_type": "code",
   "execution_count": 59,
   "metadata": {},
   "outputs": [],
   "source": [
    "# cluster features\n",
    "kmeans = KMeans(n_clusters = 1000)\n",
    "pred_y = kmeans.fit_predict(train_stack)"
   ]
  },
  {
   "cell_type": "code",
   "execution_count": 77,
   "metadata": {},
   "outputs": [],
   "source": [
    "# list (np.array) of integers where each number is the number of the associated cluster for the\n",
    "# feature at the same index in the list of \n",
    "labels = kmeans.labels_"
   ]
  },
  {
   "cell_type": "code",
   "execution_count": 81,
   "metadata": {},
   "outputs": [
    {
     "data": {
      "text/plain": [
       "140957"
      ]
     },
     "execution_count": 81,
     "metadata": {},
     "output_type": "execute_result"
    }
   ],
   "source": [
    "len(labels)"
   ]
  },
  {
   "cell_type": "code",
   "execution_count": 103,
   "metadata": {},
   "outputs": [],
   "source": [
    "classes = []\n",
    "for img in train_sifts:\n",
    "    for feat in img[0]:\n",
    "        classes.append(img[1])"
   ]
  },
  {
   "cell_type": "code",
   "execution_count": 104,
   "metadata": {},
   "outputs": [
    {
     "name": "stdout",
     "output_type": "stream",
     "text": [
      "140957\n"
     ]
    }
   ],
   "source": [
    "print(len(classes))"
   ]
  },
  {
   "cell_type": "code",
   "execution_count": 107,
   "metadata": {},
   "outputs": [],
   "source": [
    "hists = {'bfly':dd(int), 'cbhat':dd(int), 'plane':dd(int)}\n",
    "n_feats = range(len(labels))\n",
    "for i in n_feats:\n",
    "    cluster = labels[i]\n",
    "    if classes[i] == 1:\n",
    "        hists['bfly'][cluster] += 1\n",
    "    elif classes[i] == 2:\n",
    "        hists['cbhat'][cluster] += 1\n",
    "    elif classes[i] == 3:\n",
    "        hists['plane'][cluster] += 1"
   ]
  },
  {
   "cell_type": "code",
   "execution_count": 174,
   "metadata": {},
   "outputs": [
    {
     "data": {
      "text/plain": [
       "<BarContainer object of 1001 artists>"
      ]
     },
     "execution_count": 174,
     "metadata": {},
     "output_type": "execute_result"
    },
    {
     "data": {
      "image/png": "[encoded data removed]",
      "text/plain": [
       "<Figure size 432x288 with 1 Axes>"
      ]
     },
     "metadata": {
      "needs_background": "light"
     },
     "output_type": "display_data"
    }
   ],
   "source": [
    "# butterfly features\n",
    "keys1 = []\n",
    "vals1 = []\n",
    "for key in hists['bfly'].keys():\n",
    "    keys1.append(key)\n",
    "    val = hists['bfly'][key] / len(hists['bfly'].keys())\n",
    "    vals1.append(val)\n",
    "plt.bar(keys1, vals1, snap=False)"
   ]
  },
  {
   "cell_type": "code",
   "execution_count": 178,
   "metadata": {},
   "outputs": [
    {
     "data": {
      "text/plain": [
       "<BarContainer object of 1001 artists>"
      ]
     },
     "execution_count": 178,
     "metadata": {},
     "output_type": "execute_result"
    },
    {
     "data": {
      "image/png": "[encoded data removed]",
      "text/plain": [
       "<Figure size 432x288 with 1 Axes>"
      ]
     },
     "metadata": {
      "needs_background": "light"
     },
     "output_type": "display_data"
    }
   ],
   "source": [
    "# cowboy hat features\n",
    "keys2 = []\n",
    "vals2 = []\n",
    "for key in hists['cbhat'].keys():\n",
    "    keys2.append(key)\n",
    "    val = hists['cbhat'][key] / len(hists['cbhat'].keys())\n",
    "    vals2.append(val)\n",
    "plt.bar(keys2, vals2, snap=False)"
   ]
  },
  {
   "cell_type": "code",
   "execution_count": 179,
   "metadata": {},
   "outputs": [
    {
     "data": {
      "text/plain": [
       "<BarContainer object of 1001 artists>"
      ]
     },
     "execution_count": 179,
     "metadata": {},
     "output_type": "execute_result"
    },
    {
     "data": {
      "image/png": "[encoded data removed]",
      "text/plain": [
       "<Figure size 432x288 with 1 Axes>"
      ]
     },
     "metadata": {
      "needs_background": "light"
     },
     "output_type": "display_data"
    }
   ],
   "source": [
    "# airplane features\n",
    "keys3 = []\n",
    "vals3 = []\n",
    "for key in hists['plane'].keys():\n",
    "    keys3.append(key)\n",
    "    val = hists['plane'][key] / len(hists['plane'].keys())\n",
    "    vals3.append(val)\n",
    "plt.bar(keys3, vals3, snap=False)"
   ]
  },
  {
   "cell_type": "code",
   "execution_count": 180,
   "metadata": {},
   "outputs": [],
   "source": [
    "## Testing"
   ]
  },
  {
   "cell_type": "code",
   "execution_count": 181,
   "metadata": {},
   "outputs": [],
   "source": [
    "test_path = 'Assignment06_data\\Assignment06_data_reduced'\n",
    "bfly_test_path = test_path + r'\\TestDataset_2'\n",
    "cbhat_test_path = test_path + r'\\TestDataset_1'\n",
    "plane_test_path = test_path + r'\\TestDataset_3'"
   ]
  },
  {
   "cell_type": "code",
   "execution_count": 182,
   "metadata": {},
   "outputs": [
    {
     "name": "stdout",
     "output_type": "stream",
     "text": [
      "Wall time: 3.39 s\n"
     ]
    }
   ],
   "source": [
    "%%time\n",
    "test_sifts = []\n",
    "sift = cv2.xfeatures2d.SIFT_create()\n",
    "for file in sorted(os.listdir(bfly_test_path)):\n",
    "    imgPath = os.path.join(bfly_test_path, file)\n",
    "    img = cv2.imread(imgPath)\n",
    "    gray = cv2.cvtColor(img,cv2.COLOR_BGR2GRAY)\n",
    "    kp, des = sift.detectAndCompute(gray,None)\n",
    "    feature = (des, 1)\n",
    "    test_sifts.append(feature)\n",
    "for file in sorted(os.listdir(cbhat_test_path)):\n",
    "    imgPath = os.path.join(cbhat_test_path, file)\n",
    "    img = cv2.imread(imgPath)\n",
    "    gray = cv2.cvtColor(img,cv2.COLOR_BGR2GRAY)\n",
    "    kp, des = sift.detectAndCompute(gray,None)\n",
    "    feature = (des, 2)\n",
    "    test_sifts.append(feature)\n",
    "for file in sorted(os.listdir(plane_test_path)):\n",
    "    imgPath = os.path.join(plane_test_path, file)\n",
    "    img = cv2.imread(imgPath)\n",
    "    gray = cv2.cvtColor(img,cv2.COLOR_BGR2GRAY)\n",
    "    kp, des = sift.detectAndCompute(gray,None)\n",
    "    feature = (des, 3)\n",
    "    test_sifts.append(feature)"
   ]
  },
  {
   "cell_type": "code",
   "execution_count": 183,
   "metadata": {},
   "outputs": [],
   "source": [
    "test_feats = []\n",
    "for pair in test_sifts:\n",
    "    test_feats.append(pair[0])\n",
    "test_stack = np.array(test_feats[0])\n",
    "for others in test_feats[1:]:\n",
    "    test_stack = np.vstack((test_stack, others))"
   ]
  },
  {
   "cell_type": "code",
   "execution_count": 186,
   "metadata": {},
   "outputs": [
    {
     "name": "stdout",
     "output_type": "stream",
     "text": [
      "Wall time: 7min 48s\n"
     ]
    }
   ],
   "source": [
    "%%time\n",
    "test_kmeans = KMeans(n_clusters = 1000)\n",
    "test_pred_y = test_kmeans.fit_predict(test_stack)"
   ]
  },
  {
   "cell_type": "code",
   "execution_count": 187,
   "metadata": {},
   "outputs": [],
   "source": [
    "test_labels = test_kmeans.labels_\n",
    "test_classes = []\n",
    "for img in test_sifts:\n",
    "    for feat in img[0]:\n",
    "        test_classes.append(img[1])\n",
    "\n",
    "test_hists = {'bfly':dd(int), 'cbhat':dd(int), 'plane':dd(int)}\n",
    "test_n_feats = range(len(test_labels))\n",
    "for i in test_n_feats:\n",
    "    cluster = test_labels[i]\n",
    "    if test_classes[i] == 1:\n",
    "        test_hists['bfly'][cluster] += 1\n",
    "    elif test_classes[i] == 2:\n",
    "        test_hists['cbhat'][cluster] += 1\n",
    "    elif test_classes[i] == 3:\n",
    "        test_hists['plane'][cluster] += 1"
   ]
  },
  {
   "cell_type": "code",
   "execution_count": 188,
   "metadata": {},
   "outputs": [
    {
     "data": {
      "text/plain": [
       "<BarContainer object of 997 artists>"
      ]
     },
     "execution_count": 188,
     "metadata": {},
     "output_type": "execute_result"
    },
    {
     "data": {
      "image/png": "[encoded data removed]",
      "text/plain": [
       "<Figure size 432x288 with 1 Axes>"
      ]
     },
     "metadata": {
      "needs_background": "light"
     },
     "output_type": "display_data"
    }
   ],
   "source": [
    "# butterfly features\n",
    "test_keys1 = []\n",
    "test_vals1 = []\n",
    "for key in test_hists['bfly'].keys():\n",
    "    test_keys1.append(key)\n",
    "    val = test_hists['bfly'][key] / len(test_hists['bfly'].keys())\n",
    "    test_vals1.append(val)\n",
    "plt.bar(test_keys1, test_vals1, snap=False)"
   ]
  },
  {
   "cell_type": "code",
   "execution_count": 189,
   "metadata": {},
   "outputs": [
    {
     "data": {
      "text/plain": [
       "<BarContainer object of 848 artists>"
      ]
     },
     "execution_count": 189,
     "metadata": {},
     "output_type": "execute_result"
    },
    {
     "data": {
      "image/png": "[encoded data removed]",
      "text/plain": [
       "<Figure size 432x288 with 1 Axes>"
      ]
     },
     "metadata": {
      "needs_background": "light"
     },
     "output_type": "display_data"
    }
   ],
   "source": [
    "# cowboy hat features\n",
    "test_keys2 = []\n",
    "test_vals2 = []\n",
    "for key in test_hists['cbhat'].keys():\n",
    "    test_keys2.append(key)\n",
    "    val = test_hists['cbhat'][key] / len(test_hists['cbhat'].keys())\n",
    "    test_vals2.append(val)\n",
    "plt.bar(test_keys2, test_vals2, snap=False)"
   ]
  },
  {
   "cell_type": "code",
   "execution_count": 190,
   "metadata": {},
   "outputs": [
    {
     "data": {
      "text/plain": [
       "<BarContainer object of 928 artists>"
      ]
     },
     "execution_count": 190,
     "metadata": {},
     "output_type": "execute_result"
    },
    {
     "data": {
      "image/png": "[encoded data removed]",
      "text/plain": [
       "<Figure size 432x288 with 1 Axes>"
      ]
     },
     "metadata": {
      "needs_background": "light"
     },
     "output_type": "display_data"
    }
   ],
   "source": [
    "# airplane features\n",
    "test_keys3 = []\n",
    "test_vals3 = []\n",
    "for key in test_hists['plane'].keys():\n",
    "    test_keys3.append(key)\n",
    "    val = test_hists['plane'][key] / len(test_hists['plane'].keys())\n",
    "    test_vals3.append(val)\n",
    "plt.bar(test_keys3, test_vals3, snap=False)"
   ]
  },
  {
   "cell_type": "code",
   "execution_count": null,
   "metadata": {},
   "outputs": [],
   "source": []
  }
 ],
 "metadata": {
  "kernelspec": {
   "display_name": "Python 3",
   "language": "python",
   "name": "python3"
  },
  "language_info": {
   "codemirror_mode": {
    "name": "ipython",
    "version": 3
   },
   "file_extension": ".py",
   "mimetype": "text/x-python",
   "name": "python",
   "nbconvert_exporter": "python",
   "pygments_lexer": "ipython3",
   "version": "3.7.3"
  }
 },
 "nbformat": 4,
 "nbformat_minor": 4
}
